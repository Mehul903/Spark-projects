{
 "cells": [
  {
   "cell_type": "markdown",
   "metadata": {},
   "source": [
    "## PySpark - Microsoft - Tutorial\n",
    "\n",
    "- Predict if a restaurant or any food establishment pass/fail food-inspection\n",
    "\n",
    "- Available on [Microsoft](https://docs.microsoft.com/en-us/azure/hdinsight/spark/apache-spark-machine-learning-mllib-ipython)\n",
    "\n",
    "- Made necessary changes in this example as I've Python 3.x and the original tutorial is in Python 2.x"
   ]
  },
  {
   "cell_type": "code",
   "execution_count": 1,
   "metadata": {},
   "outputs": [],
   "source": [
    "import pandas as pd\n",
    "from sklearn.model_selection import train_test_split\n",
    "\n",
    "## Load Food-Inspections data and create train-test split\n",
    "food_inspections_df = pd.read_csv('/home/patel.mehu/sample_data/Food_Inspections.csv')\n",
    "X = food_inspections_df[['Inspection ID', 'DBA Name', 'AKA Name', 'License #', 'Facility Type', 'Risk', 'Address', \n",
    "                         'City', 'State', 'Zip', 'Inspection Date', 'Inspection Type', 'Violations', 'Latitude', \n",
    "                         'Longitude', 'Location']]\n",
    "y = food_inspections_df[['Results']]\n",
    "\n",
    "del food_inspections_df\n",
    "\n",
    "X_train, X_test, y_train, y_test = train_test_split(X, y, random_state = 11)"
   ]
  },
  {
   "cell_type": "code",
   "execution_count": 3,
   "metadata": {},
   "outputs": [],
   "source": [
    "food_train = pd.concat([X_train, y_train], axis = 1)\n",
    "food_test = pd.concat([X_test, y_test], axis = 1)"
   ]
  },
  {
   "cell_type": "code",
   "execution_count": 4,
   "metadata": {},
   "outputs": [],
   "source": [
    "food_train.to_csv('/home/patel.mehu/sample_data/Food_Inspections_train.csv', index = False)\n",
    "food_test.to_csv('/home/patel.mehu/sample_data/Food_Inspections_test.csv', index = False)"
   ]
  },
  {
   "cell_type": "code",
   "execution_count": 5,
   "metadata": {},
   "outputs": [],
   "source": [
    "import pyspark\n",
    "from pyspark.sql import SQLContext"
   ]
  },
  {
   "cell_type": "code",
   "execution_count": 6,
   "metadata": {},
   "outputs": [],
   "source": [
    "sc = pyspark.SparkContext()\n",
    "sqlContext = SQLContext(sc)"
   ]
  },
  {
   "cell_type": "markdown",
   "metadata": {},
   "source": [
    "### Build a Logistic-Regression model "
   ]
  },
  {
   "cell_type": "code",
   "execution_count": 7,
   "metadata": {},
   "outputs": [],
   "source": [
    "from pyspark.ml import Pipeline\n",
    "from pyspark.ml.classification import LogisticRegression\n",
    "from pyspark.ml.feature import HashingTF, Tokenizer\n",
    "from pyspark.sql import Row\n",
    "from pyspark.sql.functions import UserDefinedFunction\n",
    "from pyspark.sql.types import *"
   ]
  },
  {
   "cell_type": "code",
   "execution_count": 8,
   "metadata": {},
   "outputs": [],
   "source": [
    "import csv    \n",
    "from io import StringIO"
   ]
  },
  {
   "cell_type": "code",
   "execution_count": 30,
   "metadata": {},
   "outputs": [],
   "source": [
    "def csvParse(s):\n",
    "    \"\"\"\n",
    "    Create a Resilient Distributed Dataset (RDD) by importing and parsing the input data.\n",
    "    \"\"\"\n",
    "    sio = StringIO(s)\n",
    "    value = next(csv.reader(sio))\n",
    "    sio.close()\n",
    "    return value\n",
    "\n",
    "inspections = sc.textFile('/home/patel.mehu/sample_data/Food_Inspections_train.csv').map(csvParse)"
   ]
  },
  {
   "cell_type": "code",
   "execution_count": 15,
   "metadata": {
    "scrolled": true
   },
   "outputs": [
    {
     "data": {
      "text/plain": [
       "[['Inspection ID',\n",
       "  'DBA Name',\n",
       "  'AKA Name',\n",
       "  'License #',\n",
       "  'Facility Type',\n",
       "  'Risk',\n",
       "  'Address',\n",
       "  'City',\n",
       "  'State',\n",
       "  'Zip',\n",
       "  'Inspection Date',\n",
       "  'Inspection Type',\n",
       "  'Violations',\n",
       "  'Latitude',\n",
       "  'Longitude',\n",
       "  'Location',\n",
       "  'Results'],\n",
       " ['1188382',\n",
       "  'PUNJABI DHABHA',\n",
       "  'PUNJABI DHABHA',\n",
       "  '74498.0',\n",
       "  'Restaurant',\n",
       "  'Risk 1 (High)',\n",
       "  '2525 W DEVON ',\n",
       "  'CHICAGO',\n",
       "  'IL',\n",
       "  '60659.0',\n",
       "  '10/10/2012',\n",
       "  'Canvass',\n",
       "  '3. POTENTIALLY HAZARDOUS FOOD MEETS TEMPERATURE REQUIREMENT DURING STORAGE, PREPARATION DISPLAY AND SERVICE - Comments: FOUND POTENTIALLY HAZARDOUS FOOD ON THE TOP OF PREP TABLE NOT MEETING PROPER TEMPERATURE. HALF AND HALF AT 61.8F, WHIPPED CREAM AT 52.3F, CREAM SAUCE AT 91.8F. ALSO FOUND POTENTIALLY HAZARDOUS FOODS NOT MEETING PROPER TEMPERATURE ON THE BUFFET TABLE . SUCH AS YOGURT AT 51.2F, RICE PUDDING AT 45.7F. INSTRUCTED MANAGER THAT ALL POTENTIALLY HAZARDOUS FOODS MUST MAINTAIN A TEMPERATURE OF 40F OR BELOW ON THE BUFFET TABLE AND INSIDE THE COOLER. MANAGER DISCARDED THE SAID PROPER WORTH $30.00, TOTAL 8 LBS. CITATION ISSUED CRITICAL 7-38-005(A). | 16. FOOD PROTECTED DURING STORAGE, PREPARATION, DISPLAY, SERVICE AND TRANSPORTATION - Comments: ICE ARE NOT PROTECTED DURING STORAGE. FOUND INTERIOR PANEL OF THE ICE MACHINE NOT MAINTAINED. WITH SLIMY BLACK SUBSTANCE ON THE INTERIOR SURFACES. INSTRUCTED TO CLEAN AND SANITIZE IN DETAIL AND MAINTAIN. ALSO MUST INSTALL SNEEZE GUARD ON THE END TABLE OF BUFFET AREA WHERE THE DRY SNACKS AND DESSERTS ARE SERVED. CITATION ISSUED SERIOUS. 7-38-005(A). | 18. NO EVIDENCE OF RODENT OR INSECT OUTER OPENINGS PROTECTED/RODENT PROOFED, A WRITTEN LOG SHALL BE MAINTAINED AVAILABLE TO THE INSPECTORS - Comments: FOUND EVIDENCE OF RAT DROPPINGS, ON THE BOTTOM SHELVE OF THE STORAGE ROOM WITH ELECTRICAL CORDS AND CHEMICALS; ON THE WALL BASE CLOSE TO  ONE COMPARTMENT SINK AND ON THE INTERIOR BOTTOM OF THE DOUGH MACHINE OVER 50 TOTAL. FRUIT FLIES ON THE WALLS BY 3 COMPARTMENT SINK, ON TOP OF BAGS OF ONIONS; AND ONE LIVE  ROACH ON TOP OF THE UPRIGHT FREEZER. INSTRUCTED TO ELIMINATE FRUIT FLIES AND ROACH ACTIVITY. REMOVE RAT DROPPINGS AND SANITIZE AFFECTED AREAS. RECOMMENDED ADDITIONAL SERVICE BY PEST CONTROL COMPANY. CITATION ISSUED SERIOUS 7-38-020. | 19. OUTSIDE GARBAGE WASTE GREASE AND STORAGE AREA; CLEAN, RODENT PROOF, ALL CONTAINERS COVERED - Comments: FOUND OUTSIDE GARBAGE AND WASTE GREASE AREAS NOT MAINTAINED. ACCUMULATED GREASE ON TOP OF OUTSIDE WASTE GREASE CONTAINER . LITTER AND ACCUMULATED DEBRIS AROUND CONTAINERS. INSTRUCTED TO CLEAN THE GREASE CONTAINER AND OUTSIDE SURROUNDING AREAS AND MAINTAIN. CITATION ISSUED SERIOUS,7-38-020. | 29. PREVIOUS MINOR VIOLATION(S) CORRECTED 7-42-090 - Comments: PREVIOUS MINOR VIOLATIONS NOT CORRECTED FROM REPORT #1229349 DATED 6/4/12 #33- MUST CLEAN IN DETAIL THE WIRE RACK SHELVINGS IN ALL WALK IN COOLER /FREEZER AND MAINTAIN. #35-MUST CLEAN THE WALLS IN THE PREP AREA 2ND FLOOR. FIRST FLOOR VENTILATION COVER IN THE LADIES WASHROOM(WITH DUST BUILD-UP). MUST CLEAN IN DETAIL AND MAINTAIN.  CITATION ISSUED SERIOUS. 7-42-090. | 30. FOOD IN ORIGINAL CONTAINER, PROPERLY LABELED: CUSTOMER ADVISORY POSTED AS NEEDED - Comments: MISSING LABEL/DATE ON ALL FOOD CONTAINERS INSIDE THE WALK IN COOLER AND FREEZER. MUST PROVIDE LABEL/NAME OF THE PRODUCT AND DATED. ALSO MUST PROVIDE LABEL/NAME OF THE PRODUCT ON ALL BULK CONTAINERS WITH SUGAR, FLOUR,SALT,RICE ETC. | 32. FOOD AND NON-FOOD CONTACT SURFACES PROPERLY DESIGNED, CONSTRUCTED AND MAINTAINED - Comments: MUST PROVIDE MISSING DRAIN STOPPER FOR THE 3 COMPARTMENT SINK. ICE BUILD UP-ON THE CONDENSER OF THE 2 DOOR COOLER. MUST REPAIR. RUSTED WIRE RACK OF THE 2 DOOR COOLER. MUST REMOVE THE RUST AND MAINTAIN. | 33. FOOD AND NON-FOOD CONTACT EQUIPMENT UTENSILS CLEAN, FREE OF ABRASIVE DETERGENTS - Comments: MUST CLEAN AND SANITIZE THE FOLLOWING: ALL COOKING EQUIPMENTS, ALL BULK CONTAINERS,PREP TABLES, CHOPPING BOARDS,INTERIOR BOTTOM SHELVE OF THE REACH IN FREEZER,SHELVING IN THE STORAGE ROOM, THE NOZZLE OF THE SODA GUN HOLDER AND MAINTAIN. | 34. FLOORS: CONSTRUCTED PER CODE, CLEANED, GOOD REPAIR, COVING INSTALLED, DUST-LESS CLEANING METHODS USED - Comments: MUST CLEAN THE FLOOR DRAIN THRU-OUT THE KITCHEN. MUST RE SURFACE THE FLOOR BEHIND THE BAR AND CLEAN IN DETAIL THE FLOOR BEHIND THE BAR AREA, AROUND AND BEHIND THE GREASE TRAP BOX UNDER THE 3 COMPARTMENT SINK AND MAINTAIN. | 35. WALLS, CEILINGS, ATTACHED EQUIPMENT CONSTRUCTED PER CODE: GOOD REPAIR, SURFACES CLEAN AND DUST-LESS CLEANING METHODS - Comments: MUST SEAL ALL HOLES AROUND THE PIPE THRU-OUT. SEAL THE HOLE ON THE WALL BASE CLOSE TO ONE COMPARTMENT SINK BEHIND THE WIRE RACK SHELVE(MAIN KITCHEN). CLEAN IN DETAIL THE HOOD WITH ACCUMULATED GREASE BUILD-UP. | 36. LIGHTING: REQUIRED MINIMUM FOOT-CANDLES OF LIGHT PROVIDED, FIXTURES SHIELDED - Comments: MUST CLEAN IN DETAIL ALL THE CEILING LIGHT SHIELD ABOVE THE PREP AREA CRACKED LIGHT ABOVE THE PREP AREA. MUST REPLACE. MISSING CEILING LIGHT  SHIELD BY TH ELECTRICAL ROOM. MUST PROVIDE.  | 38. VENTILATION: ROOMS AND EQUIPMENT VENTED AS REQUIRED: PLUMBING: INSTALLED AND MAINTAINED - Comments: MUST REPAIR THE LEAK UNDER THE EXPOSED AND SINK AND 3 COMPARTMENT SINK AND MAINTAIN. | 40. REFRIGERATION AND METAL STEM THERMOMETERS PROVIDED AND CONSPICUOUS - Comments: MUST PROVIDE MISSING THERMOMETER INSIDE THE REACH IN FREEZER AND MUST BE VISIBLE.',\n",
       "  '41.9975603869535',\n",
       "  '-87.6933945068264',\n",
       "  '(41.9975603869535, -87.6933945068264)',\n",
       "  'Fail']]"
      ]
     },
     "execution_count": 15,
     "metadata": {},
     "output_type": "execute_result"
    }
   ],
   "source": [
    "inspections.take(2)"
   ]
  },
  {
   "cell_type": "code",
   "execution_count": 31,
   "metadata": {},
   "outputs": [
    {
     "data": {
      "text/plain": [
       "['Inspection ID',\n",
       " 'DBA Name',\n",
       " 'AKA Name',\n",
       " 'License #',\n",
       " 'Facility Type',\n",
       " 'Risk',\n",
       " 'Address',\n",
       " 'City',\n",
       " 'State',\n",
       " 'Zip',\n",
       " 'Inspection Date',\n",
       " 'Inspection Type',\n",
       " 'Violations',\n",
       " 'Latitude',\n",
       " 'Longitude',\n",
       " 'Location',\n",
       " 'Results']"
      ]
     },
     "execution_count": 31,
     "metadata": {},
     "output_type": "execute_result"
    }
   ],
   "source": [
    "## Remove first row (as it has headers) so that it does not create issues while changing data-types. \n",
    "firstRow = inspections.first()\n",
    "inspections = inspections.filter(lambda row:row != firstRow)\n",
    "firstRow"
   ]
  },
  {
   "cell_type": "code",
   "execution_count": 32,
   "metadata": {},
   "outputs": [
    {
     "name": "stdout",
     "output_type": "stream",
     "text": [
      "+-------+--------------------+------------------+--------------------+\n",
      "|     id|                name|           results|          violations|\n",
      "+-------+--------------------+------------------+--------------------+\n",
      "|1188382|      PUNJABI DHABHA|              Fail|3. POTENTIALLY HA...|\n",
      "|1324669|PEKING CHINESE FO...|              Pass|30. FOOD IN ORIGI...|\n",
      "|1473980|Jitlada Thai Hous...|              Pass|33. FOOD AND NON-...|\n",
      "| 419498|         ST MATTHIAS|Pass w/ Conditions|4. SOURCE OF CROS...|\n",
      "|1360722|     HACHI'S KITCHEN|              Pass|32. FOOD AND NON-...|\n",
      "|1546260|   CAFE UTJEHA, INC.|              Pass|38. VENTILATION: ...|\n",
      "|1515239|     CHINESE YUM YUM|              Pass|33. FOOD AND NON-...|\n",
      "|1566559|NORWEGIAN-AMERICI...|              Pass|                    |\n",
      "| 381259|  POPS FOR CHAMPAGNE|              Pass|33. FOOD AND NON-...|\n",
      "|1329266|BURGUNDY RESTAURA...|              Pass|30. FOOD IN ORIGI...|\n",
      "+-------+--------------------+------------------+--------------------+\n",
      "only showing top 10 rows\n",
      "\n"
     ]
    }
   ],
   "source": [
    "### Run the following code to create a dataframe (df) and a temporary table (CountResults) with a few columns that are \n",
    "## useful for the predictive analysis. sqlContext is used to perform transformations on structured data.\n",
    "\n",
    "schema = StructType([\n",
    "                    StructField(\"id\", IntegerType(), False),\n",
    "                    StructField(\"name\", StringType(), False),\n",
    "                    StructField(\"results\", StringType(), False),\n",
    "                    StructField(\"violations\", StringType(), True)])\n",
    "\n",
    "df = sqlContext.createDataFrame(inspections.map(lambda l: (int(l[0]), l[1], l[16], l[12])) , schema)\n",
    "# df = sqlContext.createDataFrame(inspections.map(lambda l: (float(l[0]), l[1], l[12], l[13])) , schema)\n",
    "df.registerTempTable('CountResults')\n",
    "\n",
    "df.show(10)"
   ]
  },
  {
   "cell_type": "code",
   "execution_count": 33,
   "metadata": {},
   "outputs": [
    {
     "name": "stdout",
     "output_type": "stream",
     "text": [
      "+--------------------+\n",
      "|             results|\n",
      "+--------------------+\n",
      "|           Not Ready|\n",
      "|                Fail|\n",
      "|            No Entry|\n",
      "|Business Not Located|\n",
      "|  Pass w/ Conditions|\n",
      "|     Out of Business|\n",
      "|                Pass|\n",
      "+--------------------+\n",
      "\n"
     ]
    }
   ],
   "source": [
    "## Unique values in target-column\n",
    "df.select('results').distinct().show()"
   ]
  },
  {
   "cell_type": "code",
   "execution_count": 34,
   "metadata": {},
   "outputs": [
    {
     "name": "stdout",
     "output_type": "stream",
     "text": [
      "+--------------------+-----+\n",
      "|             results|count|\n",
      "+--------------------+-----+\n",
      "|           Not Ready| 1054|\n",
      "|                Fail|26008|\n",
      "|            No Entry| 4062|\n",
      "|Business Not Located|   49|\n",
      "|  Pass w/ Conditions|14653|\n",
      "|     Out of Business|11838|\n",
      "|                Pass|76253|\n",
      "+--------------------+-----+\n",
      "\n"
     ]
    }
   ],
   "source": [
    "## Distribution of target-variable\n",
    "df.groupBy('results').count().show()"
   ]
  },
  {
   "cell_type": "code",
   "execution_count": 35,
   "metadata": {},
   "outputs": [],
   "source": [
    "def labelForResults(s):\n",
    "    \"\"\"\n",
    "    Transform target-variable (pass or fail)\n",
    "    \"\"\"\n",
    "    if s == 'Fail':\n",
    "        return 0.0\n",
    "    elif (s == 'Pass') | (s == 'Pass w/ Conditions'):\n",
    "        return 1.0\n",
    "    else:\n",
    "        return -1.0\n",
    "\n",
    "label = UserDefinedFunction(labelForResults, DoubleType())\n",
    "labeledData = df.select(label(df.results).alias('label'), df.violations).where('label >= 0')"
   ]
  },
  {
   "cell_type": "code",
   "execution_count": 36,
   "metadata": {
    "scrolled": true
   },
   "outputs": [
    {
     "data": {
      "text/plain": [
       "[Row(label=0.0, violations='3. POTENTIALLY HAZARDOUS FOOD MEETS TEMPERATURE REQUIREMENT DURING STORAGE, PREPARATION DISPLAY AND SERVICE - Comments: FOUND POTENTIALLY HAZARDOUS FOOD ON THE TOP OF PREP TABLE NOT MEETING PROPER TEMPERATURE. HALF AND HALF AT 61.8F, WHIPPED CREAM AT 52.3F, CREAM SAUCE AT 91.8F. ALSO FOUND POTENTIALLY HAZARDOUS FOODS NOT MEETING PROPER TEMPERATURE ON THE BUFFET TABLE . SUCH AS YOGURT AT 51.2F, RICE PUDDING AT 45.7F. INSTRUCTED MANAGER THAT ALL POTENTIALLY HAZARDOUS FOODS MUST MAINTAIN A TEMPERATURE OF 40F OR BELOW ON THE BUFFET TABLE AND INSIDE THE COOLER. MANAGER DISCARDED THE SAID PROPER WORTH $30.00, TOTAL 8 LBS. CITATION ISSUED CRITICAL 7-38-005(A). | 16. FOOD PROTECTED DURING STORAGE, PREPARATION, DISPLAY, SERVICE AND TRANSPORTATION - Comments: ICE ARE NOT PROTECTED DURING STORAGE. FOUND INTERIOR PANEL OF THE ICE MACHINE NOT MAINTAINED. WITH SLIMY BLACK SUBSTANCE ON THE INTERIOR SURFACES. INSTRUCTED TO CLEAN AND SANITIZE IN DETAIL AND MAINTAIN. ALSO MUST INSTALL SNEEZE GUARD ON THE END TABLE OF BUFFET AREA WHERE THE DRY SNACKS AND DESSERTS ARE SERVED. CITATION ISSUED SERIOUS. 7-38-005(A). | 18. NO EVIDENCE OF RODENT OR INSECT OUTER OPENINGS PROTECTED/RODENT PROOFED, A WRITTEN LOG SHALL BE MAINTAINED AVAILABLE TO THE INSPECTORS - Comments: FOUND EVIDENCE OF RAT DROPPINGS, ON THE BOTTOM SHELVE OF THE STORAGE ROOM WITH ELECTRICAL CORDS AND CHEMICALS; ON THE WALL BASE CLOSE TO  ONE COMPARTMENT SINK AND ON THE INTERIOR BOTTOM OF THE DOUGH MACHINE OVER 50 TOTAL. FRUIT FLIES ON THE WALLS BY 3 COMPARTMENT SINK, ON TOP OF BAGS OF ONIONS; AND ONE LIVE  ROACH ON TOP OF THE UPRIGHT FREEZER. INSTRUCTED TO ELIMINATE FRUIT FLIES AND ROACH ACTIVITY. REMOVE RAT DROPPINGS AND SANITIZE AFFECTED AREAS. RECOMMENDED ADDITIONAL SERVICE BY PEST CONTROL COMPANY. CITATION ISSUED SERIOUS 7-38-020. | 19. OUTSIDE GARBAGE WASTE GREASE AND STORAGE AREA; CLEAN, RODENT PROOF, ALL CONTAINERS COVERED - Comments: FOUND OUTSIDE GARBAGE AND WASTE GREASE AREAS NOT MAINTAINED. ACCUMULATED GREASE ON TOP OF OUTSIDE WASTE GREASE CONTAINER . LITTER AND ACCUMULATED DEBRIS AROUND CONTAINERS. INSTRUCTED TO CLEAN THE GREASE CONTAINER AND OUTSIDE SURROUNDING AREAS AND MAINTAIN. CITATION ISSUED SERIOUS,7-38-020. | 29. PREVIOUS MINOR VIOLATION(S) CORRECTED 7-42-090 - Comments: PREVIOUS MINOR VIOLATIONS NOT CORRECTED FROM REPORT #1229349 DATED 6/4/12 #33- MUST CLEAN IN DETAIL THE WIRE RACK SHELVINGS IN ALL WALK IN COOLER /FREEZER AND MAINTAIN. #35-MUST CLEAN THE WALLS IN THE PREP AREA 2ND FLOOR. FIRST FLOOR VENTILATION COVER IN THE LADIES WASHROOM(WITH DUST BUILD-UP). MUST CLEAN IN DETAIL AND MAINTAIN.  CITATION ISSUED SERIOUS. 7-42-090. | 30. FOOD IN ORIGINAL CONTAINER, PROPERLY LABELED: CUSTOMER ADVISORY POSTED AS NEEDED - Comments: MISSING LABEL/DATE ON ALL FOOD CONTAINERS INSIDE THE WALK IN COOLER AND FREEZER. MUST PROVIDE LABEL/NAME OF THE PRODUCT AND DATED. ALSO MUST PROVIDE LABEL/NAME OF THE PRODUCT ON ALL BULK CONTAINERS WITH SUGAR, FLOUR,SALT,RICE ETC. | 32. FOOD AND NON-FOOD CONTACT SURFACES PROPERLY DESIGNED, CONSTRUCTED AND MAINTAINED - Comments: MUST PROVIDE MISSING DRAIN STOPPER FOR THE 3 COMPARTMENT SINK. ICE BUILD UP-ON THE CONDENSER OF THE 2 DOOR COOLER. MUST REPAIR. RUSTED WIRE RACK OF THE 2 DOOR COOLER. MUST REMOVE THE RUST AND MAINTAIN. | 33. FOOD AND NON-FOOD CONTACT EQUIPMENT UTENSILS CLEAN, FREE OF ABRASIVE DETERGENTS - Comments: MUST CLEAN AND SANITIZE THE FOLLOWING: ALL COOKING EQUIPMENTS, ALL BULK CONTAINERS,PREP TABLES, CHOPPING BOARDS,INTERIOR BOTTOM SHELVE OF THE REACH IN FREEZER,SHELVING IN THE STORAGE ROOM, THE NOZZLE OF THE SODA GUN HOLDER AND MAINTAIN. | 34. FLOORS: CONSTRUCTED PER CODE, CLEANED, GOOD REPAIR, COVING INSTALLED, DUST-LESS CLEANING METHODS USED - Comments: MUST CLEAN THE FLOOR DRAIN THRU-OUT THE KITCHEN. MUST RE SURFACE THE FLOOR BEHIND THE BAR AND CLEAN IN DETAIL THE FLOOR BEHIND THE BAR AREA, AROUND AND BEHIND THE GREASE TRAP BOX UNDER THE 3 COMPARTMENT SINK AND MAINTAIN. | 35. WALLS, CEILINGS, ATTACHED EQUIPMENT CONSTRUCTED PER CODE: GOOD REPAIR, SURFACES CLEAN AND DUST-LESS CLEANING METHODS - Comments: MUST SEAL ALL HOLES AROUND THE PIPE THRU-OUT. SEAL THE HOLE ON THE WALL BASE CLOSE TO ONE COMPARTMENT SINK BEHIND THE WIRE RACK SHELVE(MAIN KITCHEN). CLEAN IN DETAIL THE HOOD WITH ACCUMULATED GREASE BUILD-UP. | 36. LIGHTING: REQUIRED MINIMUM FOOT-CANDLES OF LIGHT PROVIDED, FIXTURES SHIELDED - Comments: MUST CLEAN IN DETAIL ALL THE CEILING LIGHT SHIELD ABOVE THE PREP AREA CRACKED LIGHT ABOVE THE PREP AREA. MUST REPLACE. MISSING CEILING LIGHT  SHIELD BY TH ELECTRICAL ROOM. MUST PROVIDE.  | 38. VENTILATION: ROOMS AND EQUIPMENT VENTED AS REQUIRED: PLUMBING: INSTALLED AND MAINTAINED - Comments: MUST REPAIR THE LEAK UNDER THE EXPOSED AND SINK AND 3 COMPARTMENT SINK AND MAINTAIN. | 40. REFRIGERATION AND METAL STEM THERMOMETERS PROVIDED AND CONSPICUOUS - Comments: MUST PROVIDE MISSING THERMOMETER INSIDE THE REACH IN FREEZER AND MUST BE VISIBLE.'),\n",
       " Row(label=1.0, violations='30. FOOD IN ORIGINAL CONTAINER, PROPERLY LABELED: CUSTOMER ADVISORY POSTED AS NEEDED - Comments: NOTED SOME PREPARED AND PRECOOKED FOOD ITEMS INSIDE COOLERS NOT PROPERLY LABELED. MUST LABEL FOOD ITEMS WITH THE NAME AND DATE. | 32. FOOD AND NON-FOOD CONTACT SURFACES PROPERLY DESIGNED, CONSTRUCTED AND MAINTAINED - Comments: MUST PROVIDE PROPER SHELVING FOR ELEVATION, ONES THAT ARE EASY TO CLEAN AND MONITOR UNDERNEATH. POP CRATES ARE NOT ACCEPTABLE. | 33. FOOD AND NON-FOOD CONTACT EQUIPMENT UTENSILS CLEAN, FREE OF ABRASIVE DETERGENTS - Comments: MUST CLEAN THE INTERIOR OF SERVICE COOLER TO REMOVE SPILLS. | 34. FLOORS: CONSTRUCTED PER CODE, CLEANED, GOOD REPAIR, COVING INSTALLED, DUST-LESS CLEANING METHODS USED - Comments: FLOORS NEED CLEANING  TO REMOVE SPILLS AND DEBRIS AT THE FOLLOWING LOCATIONS: POP STORAGE AREA UNDER CRATES, BEHIND AND AROUND ALL HEAVY EQUIPMENT AND UNDER OTHER DRY STORAGE SHELVING. | 35. WALLS, CEILINGS, ATTACHED EQUIPMENT CONSTRUCTED PER CODE: GOOD REPAIR, SURFACES CLEAN AND DUST-LESS CLEANING METHODS - Comments: NOTED THE WALL IN POOR REPAIR IN THE POP STORAGE ROOM (COVING LOOSE FROM THE WALL)MUST REPAIR AND MAINTAIN. | 42. APPROPRIATE METHOD OF HANDLING OF FOOD (ICE) HAIR RESTRAINTS AND CLEAN APPAREL WORN - Comments: MUST PROVIDE AND WEAR HAIR RESTRAINTS IN FOOD PREP AREAS AT ALL TIMES. | 43. FOOD (ICE) DISPENSING UTENSILS, WASH CLOTHS PROPERLY STORED - Comments: MUST PROPERLY STORE WIPING CLOTHS IN SANITIZING SOLUTION WHEN NOT IN USE.')]"
      ]
     },
     "execution_count": 36,
     "metadata": {},
     "output_type": "execute_result"
    }
   ],
   "source": [
    "labeledData.take(2)"
   ]
  },
  {
   "cell_type": "code",
   "execution_count": 37,
   "metadata": {},
   "outputs": [],
   "source": [
    "## Define a model-pipeline\n",
    "tokenizer = Tokenizer(inputCol = 'violations', outputCol = 'words')\n",
    "hashingTF = HashingTF(inputCol = tokenizer.getOutputCol(), outputCol = 'features')\n",
    "lr = LogisticRegression(maxIter = 100, regParam = 0.01)\n",
    "pipeline = Pipeline(stages = [tokenizer, hashingTF, lr])\n",
    "\n",
    "## Fit the model on training-data\n",
    "model = pipeline.fit(labeledData)"
   ]
  },
  {
   "cell_type": "markdown",
   "metadata": {},
   "source": [
    "#### Test-data"
   ]
  },
  {
   "cell_type": "code",
   "execution_count": 38,
   "metadata": {},
   "outputs": [],
   "source": [
    "## Import test-data and make necessary transformations\n",
    "testData = sc.textFile('/home/patel.mehu/sample_data/Food_Inspections_test.csv').map(csvParse)\n",
    "\n",
    "### Filter first (header) row\n",
    "firstRow = testData.first()\n",
    "testData = testData.filter(lambda row:row != firstRow)\n",
    "\n",
    "### Convert to dataframe with pre-defined schema\n",
    "testData = testData.map(lambda l: (int(l[0]), l[1], l[16], l[12]))\n",
    "testDF = sqlContext.createDataFrame(testData, schema).where(\"results = 'Fail' OR results = 'Pass' OR results = 'Pass w/ Conditions'\")"
   ]
  },
  {
   "cell_type": "code",
   "execution_count": 39,
   "metadata": {},
   "outputs": [
    {
     "data": {
      "text/plain": [
       "['id',\n",
       " 'name',\n",
       " 'results',\n",
       " 'violations',\n",
       " 'words',\n",
       " 'features',\n",
       " 'rawPrediction',\n",
       " 'probability',\n",
       " 'prediction']"
      ]
     },
     "execution_count": 39,
     "metadata": {},
     "output_type": "execute_result"
    }
   ],
   "source": [
    "## Make predictions on test-data\n",
    "predictionsDF = model.transform(testDF)\n",
    "predictionsDF.registerTempTable('Predictions')\n",
    "predictionsDF.columns"
   ]
  },
  {
   "cell_type": "code",
   "execution_count": 40,
   "metadata": {
    "scrolled": true
   },
   "outputs": [
    {
     "data": {
      "text/plain": [
       "[Row(id=1948738, name=\"MR. D'S SNACK SHOP\", results='Pass', violations='33. FOOD AND NON-FOOD CONTACT EQUIPMENT UTENSILS CLEAN, FREE OF ABRASIVE DETERGENTS - Comments: COOKING HOOD FRONT COOKING AREA, NOT CLEAN, INSTRUCTED TO CLEAN AND REMOVE ALL GREASE DRIPPING, | 34. FLOORS: CONSTRUCTED PER CODE, CLEANED, GOOD REPAIR, COVING INSTALLED, DUST-LESS CLEANING METHODS USED - Comments: FLOOR REAR PREP AREA NOT CLEAN, INSTRUCTED TO CLEAN ALONG WALLS AND IN CORNERS ESPECIALLY UNDER AND AROUND EQUIPMENT, | 35. WALLS, CEILINGS, ATTACHED EQUIPMENT CONSTRUCTED PER CODE: GOOD REPAIR, SURFACES CLEAN AND DUST-LESS CLEANING METHODS - Comments: WALL REAR PREP AREA HAS FOOD DEBRIS, INSTRUCTED TO CLEAN AND BETTER MARITAIN, | 38. VENTILATION: ROOMS AND EQUIPMENT VENTED AS REQUIRED: PLUMBING: INSTALLED AND MAINTAINED - Comments: LOW WATER PRESSURE AT EXPOSED AND SINK REAR PREP AND AT HAND SINK IN BATHROOM, AND SLOW DRAINING THREE COMPARTMENT SINK, INSTRUCTED TO REPAIR AND BETTER MAINTAIN,  | 40. REFRIGERATION AND METAL STEM THERMOMETERS PROVIDED AND CONSPICUOUS - Comments: INSTRUCTED TO PROVIDE THERMOMETER ACCURATE AND VISIBLE INSIDE ALL COOLERS, | 45. FOOD HANDLER REQUIREMENTS MET - Comments: FOUND NO PROOF OF EMPLOYEE FOOD HANDLING TRAINING CERTIFICATE ON PREMISE. INSTRUCTED TO PROVIDE.', words=['33.', 'food', 'and', 'non-food', 'contact', 'equipment', 'utensils', 'clean,', 'free', 'of', 'abrasive', 'detergents', '-', 'comments:', 'cooking', 'hood', 'front', 'cooking', 'area,', 'not', 'clean,', 'instructed', 'to', 'clean', 'and', 'remove', 'all', 'grease', 'dripping,', '|', '34.', 'floors:', 'constructed', 'per', 'code,', 'cleaned,', 'good', 'repair,', 'coving', 'installed,', 'dust-less', 'cleaning', 'methods', 'used', '-', 'comments:', 'floor', 'rear', 'prep', 'area', 'not', 'clean,', 'instructed', 'to', 'clean', 'along', 'walls', 'and', 'in', 'corners', 'especially', 'under', 'and', 'around', 'equipment,', '|', '35.', 'walls,', 'ceilings,', 'attached', 'equipment', 'constructed', 'per', 'code:', 'good', 'repair,', 'surfaces', 'clean', 'and', 'dust-less', 'cleaning', 'methods', '-', 'comments:', 'wall', 'rear', 'prep', 'area', 'has', 'food', 'debris,', 'instructed', 'to', 'clean', 'and', 'better', 'maritain,', '|', '38.', 'ventilation:', 'rooms', 'and', 'equipment', 'vented', 'as', 'required:', 'plumbing:', 'installed', 'and', 'maintained', '-', 'comments:', 'low', 'water', 'pressure', 'at', 'exposed', 'and', 'sink', 'rear', 'prep', 'and', 'at', 'hand', 'sink', 'in', 'bathroom,', 'and', 'slow', 'draining', 'three', 'compartment', 'sink,', 'instructed', 'to', 'repair', 'and', 'better', 'maintain,', '', '|', '40.', 'refrigeration', 'and', 'metal', 'stem', 'thermometers', 'provided', 'and', 'conspicuous', '-', 'comments:', 'instructed', 'to', 'provide', 'thermometer', 'accurate', 'and', 'visible', 'inside', 'all', 'coolers,', '|', '45.', 'food', 'handler', 'requirements', 'met', '-', 'comments:', 'found', 'no', 'proof', 'of', 'employee', 'food', 'handling', 'training', 'certificate', 'on', 'premise.', 'instructed', 'to', 'provide.'], features=SparseVector(262144, {6106: 1.0, 6857: 1.0, 7851: 1.0, 8500: 1.0, 9639: 2.0, 14114: 1.0, 14311: 6.0, 16697: 1.0, 19193: 1.0, 21316: 4.0, 22500: 1.0, 27707: 1.0, 29403: 1.0, 37728: 2.0, 38308: 1.0, 40348: 1.0, 41001: 1.0, 41262: 1.0, 45531: 6.0, 46498: 1.0, 48362: 1.0, 50217: 1.0, 50849: 1.0, 50940: 1.0, 54465: 1.0, 56683: 1.0, 58524: 1.0, 60288: 1.0, 63091: 6.0, 68281: 1.0, 74466: 3.0, 78329: 1.0, 81631: 1.0, 82905: 1.0, 83693: 1.0, 87885: 1.0, 90859: 1.0, 91677: 15.0, 97215: 2.0, 99040: 1.0, 99527: 1.0, 100258: 1.0, 100604: 1.0, 100734: 1.0, 103382: 5.0, 105063: 1.0, 107950: 1.0, 111192: 1.0, 113159: 1.0, 113432: 2.0, 113764: 1.0, 115917: 2.0, 118121: 2.0, 119791: 1.0, 121133: 4.0, 122931: 1.0, 123069: 1.0, 123581: 1.0, 124643: 1.0, 125011: 1.0, 126316: 1.0, 130250: 1.0, 134733: 1.0, 135513: 2.0, 135560: 2.0, 135568: 1.0, 137409: 1.0, 139098: 2.0, 139689: 1.0, 140477: 1.0, 145542: 1.0, 145697: 2.0, 153032: 1.0, 154701: 3.0, 155189: 1.0, 156250: 1.0, 158435: 1.0, 159800: 3.0, 161061: 1.0, 162516: 2.0, 162521: 3.0, 163504: 2.0, 164607: 1.0, 164735: 1.0, 168425: 1.0, 174514: 1.0, 176964: 2.0, 179666: 1.0, 187337: 1.0, 187408: 2.0, 187621: 1.0, 189193: 2.0, 191109: 1.0, 193224: 1.0, 194293: 1.0, 199086: 1.0, 201825: 1.0, 201846: 1.0, 202842: 1.0, 205044: 6.0, 205349: 1.0, 212300: 1.0, 218380: 1.0, 219939: 1.0, 222453: 2.0, 226829: 1.0, 227797: 1.0, 232367: 1.0, 237761: 1.0, 242913: 1.0, 246035: 1.0, 249180: 1.0, 252670: 1.0, 254742: 1.0, 258861: 1.0, 259409: 1.0}), rawPrediction=DenseVector([-5.6679, 5.6679]), probability=DenseVector([0.0034, 0.9966]), prediction=1.0)]"
      ]
     },
     "execution_count": 40,
     "metadata": {},
     "output_type": "execute_result"
    }
   ],
   "source": [
    "predictionsDF.take(1)"
   ]
  },
  {
   "cell_type": "code",
   "execution_count": 41,
   "metadata": {},
   "outputs": [
    {
     "name": "stdout",
     "output_type": "stream",
     "text": [
      "There were 39118 inspections and there were 36438 successful predictions\n",
      "This is a 93.1489339945805% success rate\n"
     ]
    }
   ],
   "source": [
    "## Check accuracy\n",
    "numSuccesses = predictionsDF.where(\"\"\"(prediction = 0 AND results = 'Fail') OR\n",
    "                                        (prediction = 1 AND (results = 'Pass' OR\n",
    "                                                            results = 'Pass w/ Conditions'))\"\"\").count()\n",
    "numInspections = predictionsDF.count()\n",
    "\n",
    "print (\"There were\", numInspections, \"inspections and there were\", numSuccesses, \"successful predictions\")\n",
    "print (\"This is a\", str((float(numSuccesses) / float(numInspections)) * 100) + \"%\", \"success rate\")"
   ]
  },
  {
   "cell_type": "code",
   "execution_count": null,
   "metadata": {},
   "outputs": [],
   "source": []
  }
 ],
 "metadata": {
  "kernelspec": {
   "display_name": "Python 3",
   "language": "python",
   "name": "python3"
  },
  "language_info": {
   "codemirror_mode": {
    "name": "ipython",
    "version": 3
   },
   "file_extension": ".py",
   "mimetype": "text/x-python",
   "name": "python",
   "nbconvert_exporter": "python",
   "pygments_lexer": "ipython3",
   "version": "3.6.6"
  }
 },
 "nbformat": 4,
 "nbformat_minor": 2
}
